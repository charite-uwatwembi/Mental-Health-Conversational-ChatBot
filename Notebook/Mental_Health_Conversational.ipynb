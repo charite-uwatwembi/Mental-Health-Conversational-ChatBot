{
 "cells": [
  {
   "cell_type": "markdown",
   "metadata": {},
   "source": [
    "# Mental Health Chatbot Development Notebook"
   ]
  },
  {
   "cell_type": "code",
   "execution_count": 1,
   "metadata": {},
   "outputs": [
    {
     "name": "stderr",
     "output_type": "stream",
     "text": [
      "c:\\Users\\Hp\\AppData\\Local\\Programs\\Python\\Python311\\Lib\\site-packages\\tqdm\\auto.py:21: TqdmWarning: IProgress not found. Please update jupyter and ipywidgets. See https://ipywidgets.readthedocs.io/en/stable/user_install.html\n",
      "  from .autonotebook import tqdm as notebook_tqdm\n",
      "[nltk_data] Downloading package punkt to\n",
      "[nltk_data]     C:\\Users\\Hp\\AppData\\Roaming\\nltk_data...\n",
      "[nltk_data]   Package punkt is already up-to-date!\n",
      "[nltk_data] Downloading package wordnet to\n",
      "[nltk_data]     C:\\Users\\Hp\\AppData\\Roaming\\nltk_data...\n",
      "[nltk_data]   Package wordnet is already up-to-date!\n"
     ]
    }
   ],
   "source": [
    "import numpy as np\n",
    "import pandas as pd\n",
    "import re\n",
    "import random\n",
    "import transformers\n",
    "import matplotlib.pyplot as plt\n",
    "import json\n",
    "import pickle\n",
    "import torch\n",
    "\n",
    "import nltk\n",
    "nltk.download('punkt')\n",
    "nltk.download('wordnet')\n",
    "from nltk.stem import WordNetLemmatizer\n",
    "from tensorflow.keras.models import Sequential\n",
    "from tensorflow.keras.layers import Dense,Activation,Dropout\n",
    "from tensorflow.keras.optimizers import SGD\n",
    "from tensorflow.keras import metrics\n",
    "from tensorflow.keras.utils import plot_model\n",
    "from tensorflow.keras.models import load_model"
   ]
  },
  {
   "cell_type": "markdown",
   "metadata": {},
   "source": [
    "# Loading and Viewing the Dataset\n",
    "\n",
    "- Reads the dataset from a CSV file (`mental_health_training.csv`).\n",
    "- Displays a sample of 5 random rows to get an overview of the data.\n"
   ]
  },
  {
   "cell_type": "code",
   "execution_count": 2,
   "metadata": {},
   "outputs": [
    {
     "name": "stdout",
     "output_type": "stream",
     "text": [
      "Dataset Overview:\n"
     ]
    },
    {
     "data": {
      "text/html": [
       "<div>\n",
       "<style scoped>\n",
       "    .dataframe tbody tr th:only-of-type {\n",
       "        vertical-align: middle;\n",
       "    }\n",
       "\n",
       "    .dataframe tbody tr th {\n",
       "        vertical-align: top;\n",
       "    }\n",
       "\n",
       "    .dataframe thead th {\n",
       "        text-align: right;\n",
       "    }\n",
       "</style>\n",
       "<table border=\"1\" class=\"dataframe\">\n",
       "  <thead>\n",
       "    <tr style=\"text-align: right;\">\n",
       "      <th></th>\n",
       "      <th>question</th>\n",
       "      <th>answer</th>\n",
       "      <th>pattern</th>\n",
       "      <th>tag</th>\n",
       "    </tr>\n",
       "  </thead>\n",
       "  <tbody>\n",
       "    <tr>\n",
       "      <th>322</th>\n",
       "      <td>can you prevent mental health problems?</td>\n",
       "      <td>We can all suffer from mental health challenge...</td>\n",
       "      <td>can you prevent mental health problems?</td>\n",
       "      <td>fact-25</td>\n",
       "    </tr>\n",
       "    <tr>\n",
       "      <th>116</th>\n",
       "      <td>not really</td>\n",
       "      <td>Let's discuss further why you're feeling this ...</td>\n",
       "      <td>not really</td>\n",
       "      <td>casual</td>\n",
       "    </tr>\n",
       "    <tr>\n",
       "      <th>113</th>\n",
       "      <td>yeah</td>\n",
       "      <td>Let's discuss further why you're feeling this ...</td>\n",
       "      <td>yeah</td>\n",
       "      <td>casual</td>\n",
       "    </tr>\n",
       "    <tr>\n",
       "      <th>42</th>\n",
       "      <td>what should i call you?</td>\n",
       "      <td>I'm Pandora, your Personal Therapeutic AI Assi...</td>\n",
       "      <td>what should i call you?</td>\n",
       "      <td>about</td>\n",
       "    </tr>\n",
       "    <tr>\n",
       "      <th>126</th>\n",
       "      <td>just shut up</td>\n",
       "      <td>Talking about something really helps. If you'r...</td>\n",
       "      <td>just shut up</td>\n",
       "      <td>not-talking</td>\n",
       "    </tr>\n",
       "  </tbody>\n",
       "</table>\n",
       "</div>"
      ],
      "text/plain": [
       "                                    question  \\\n",
       "322  can you prevent mental health problems?   \n",
       "116                               not really   \n",
       "113                                     yeah   \n",
       "42                   what should i call you?   \n",
       "126                             just shut up   \n",
       "\n",
       "                                                answer  \\\n",
       "322  We can all suffer from mental health challenge...   \n",
       "116  Let's discuss further why you're feeling this ...   \n",
       "113  Let's discuss further why you're feeling this ...   \n",
       "42   I'm Pandora, your Personal Therapeutic AI Assi...   \n",
       "126  Talking about something really helps. If you'r...   \n",
       "\n",
       "                                     pattern          tag  \n",
       "322  can you prevent mental health problems?      fact-25  \n",
       "116                               not really       casual  \n",
       "113                                     yeah       casual  \n",
       "42                   what should i call you?        about  \n",
       "126                             just shut up  not-talking  "
      ]
     },
     "execution_count": 2,
     "metadata": {},
     "output_type": "execute_result"
    }
   ],
   "source": [
    "\n",
    "# Load dataset\n",
    "import tabulate\n",
    "\n",
    "df = pd.read_csv(\"../Data/mental_health_training.csv\")\n",
    "print(\"Dataset Overview:\")\n",
    "df.sample(n=5, random_state=42)"
   ]
  },
  {
   "cell_type": "markdown",
   "metadata": {},
   "source": [
    "# Creating Intents Dictionary\n",
    "\n",
    "- Converts the dataset into an intents JSON format.\n",
    "- Splits questions into multiple patterns.\n",
    "- Organizes tags, patterns, and responses into a structured dictionary.\n",
    "- Saves the formatted intents into a JSON file for future use.\n"
   ]
  },
  {
   "cell_type": "code",
   "execution_count": 3,
   "metadata": {},
   "outputs": [
    {
     "name": "stdout",
     "output_type": "stream",
     "text": [
      " Some Intents from the dataset:\n",
      "[{'tags': ['greeting'], 'patterns': ['hi', 'hi'], 'responses': ['Hello there. Tell me how are you feeling today?']}, {'tags': ['greeting'], 'patterns': ['hey', 'hey'], 'responses': ['Hello there. Tell me how are you feeling today?']}]\n"
     ]
    }
   ],
   "source": [
    "# Creating intents dictionary\n",
    "dict_ = {\"intents\": []}\n",
    "\n",
    "for ind in df.index:\n",
    "    question = df['question'][ind]\n",
    "    if pd.notna(question):\n",
    "        questions = question.lower().replace('?', '.').split('.')\n",
    "    else:\n",
    "        questions = []\n",
    "    \n",
    "    patterns = [q.strip() for q in questions if q.strip()]\n",
    "    pattern = df['pattern'][ind]\n",
    "    if pd.notna(pattern):\n",
    "        patterns.append(pattern.lower().strip())\n",
    "    \n",
    "    responses = df['answer'][ind]\n",
    "    tag = df['tag'][ind]\n",
    "\n",
    "    dict1 = {'tags': [tag], 'patterns': patterns, 'responses': [responses]}\n",
    "    dict_['intents'].append(dict1)\n",
    "print(\" Some Intents from the dataset:\")\n",
    "print(dict_[\"intents\"][:2])\n",
    "\n",
    "with open(\"../Data/intents.json\", \"w\") as f:\n",
    "    json.dump(dict_, f)"
   ]
  },
  {
   "cell_type": "code",
   "execution_count": 5,
   "metadata": {},
   "outputs": [
    {
     "name": "stdout",
     "output_type": "stream",
     "text": [
      "0               hi\n",
      "1              hey\n",
      "2           anyone\n",
      "3           anyone\n",
      "3           there?\n",
      "          ...     \n",
      "339        sadness\n",
      "339    depression?\n",
      "340     difference\n",
      "340        sadness\n",
      "340     depression\n",
      "Name: question, Length: 776, dtype: object\n"
     ]
    },
    {
     "name": "stderr",
     "output_type": "stream",
     "text": [
      "[nltk_data] Downloading package stopwords to\n",
      "[nltk_data]     C:\\Users\\Hp\\AppData\\Roaming\\nltk_data...\n",
      "[nltk_data]   Package stopwords is already up-to-date!\n"
     ]
    }
   ],
   "source": [
    "from nltk.corpus import stopwords\n",
    "nltk.download('stopwords')\n",
    "\n",
    "stop_words = set(stopwords.words('english'))\n",
    "\n",
    "# Define the list of words\n",
    "words = df['question'].str.lower().str.split().explode()\n",
    "\n",
    "# Remove stopwords from the list of words\n",
    "words = words[~words.isin(stop_words)]\n",
    "\n",
    "print(words)"
   ]
  },
  {
   "cell_type": "markdown",
   "metadata": {},
   "source": [
    "- Handle missing values"
   ]
  },
  {
   "cell_type": "code",
   "execution_count": 6,
   "metadata": {},
   "outputs": [],
   "source": [
    "df.dropna(inplace=True)\n"
   ]
  },
  {
   "cell_type": "markdown",
   "metadata": {},
   "source": [
    "- Remove duplicates"
   ]
  },
  {
   "cell_type": "code",
   "execution_count": 7,
   "metadata": {},
   "outputs": [],
   "source": [
    "df.drop_duplicates(inplace=True)\n"
   ]
  },
  {
   "cell_type": "markdown",
   "metadata": {},
   "source": [
    "# Loading BERT Tokenizer and Model\n",
    "\n",
    "- Loads the `bert-base-uncased` tokenizer and model from Hugging Face's Transformers library.\n",
    "- Defines a function to extract sentence embeddings using BERT.\n",
    "- Tokenizes words in the dataset and applies lemmatization.\n",
    "- Stores words and classes in pickle files for later use.\n"
   ]
  },
  {
   "cell_type": "code",
   "execution_count": 8,
   "metadata": {},
   "outputs": [],
   "source": [
    "import torch\n",
    "from transformers import AutoTokenizer, AutoModel\n",
    "from nltk.stem import WordNetLemmatizer\n",
    "import pickle\n",
    "\n",
    "# Load pre-trained BERT model and tokenizer\n",
    "tokenizer = AutoTokenizer.from_pretrained(\"bert-base-uncased\")\n",
    "bert_model = AutoModel.from_pretrained(\"bert-base-uncased\")\n",
    "\n",
    "words = []\n",
    "classes = []\n",
    "documents = []\n",
    "ignore_letters = ['?', '!', '.', ',']\n",
    "lemmatizer = WordNetLemmatizer()\n",
    "\n",
    "def get_bert_embedding(sentence):\n",
    "    inputs = tokenizer(sentence, return_tensors='pt', padding=True, truncation=True)\n",
    "    with torch.no_grad():\n",
    "        outputs = bert_model(**inputs)\n",
    "    return outputs.last_hidden_state.mean(dim=1).detach().numpy()\n",
    "\n",
    "for intent in dict_['intents']:\n",
    "    for pattern in intent['patterns']:\n",
    "        if isinstance(pattern, str):\n",
    "            word_list = tokenizer.tokenize(pattern)\n",
    "            words.extend(word_list)\n",
    "            documents.append((pattern, intent['tags'][0]))\n",
    "            if intent['tags'][0] not in classes:\n",
    "                classes.append(intent['tags'][0])\n",
    "\n",
    "words = [lemmatizer.lemmatize(word.lower()) for word in words if word not in ignore_letters]\n",
    "words = sorted(set(words))\n",
    "classes = sorted(set(classes))\n",
    "\n",
    "pickle.dump(words, open('../Data/words.pkl', 'wb'))\n",
    "pickle.dump(classes, open('../Data/classes.pkl', 'wb'))"
   ]
  },
  {
   "cell_type": "markdown",
   "metadata": {},
   "source": [
    "# Preparing Training Data\n",
    "\n",
    "- Uses `LabelBinarizer` to convert text labels (tags) into one-hot encoded numerical format.\n",
    "- Generates sentence embeddings using BERT.\n",
    "- Prepares training data by pairing embeddings with their corresponding labels.\n"
   ]
  },
  {
   "cell_type": "code",
   "execution_count": 9,
   "metadata": {},
   "outputs": [],
   "source": [
    "# Prepare training data\n",
    "from sklearn.naive_bayes import LabelBinarizer\n",
    "\n",
    "\n",
    "\n",
    "label_binarizer = LabelBinarizer()\n",
    "label_binarizer.fit(classes)\n",
    "\n",
    "training = []\n",
    "for document in documents:\n",
    "    pattern = document[0]\n",
    "    tag = document[1]\n",
    "    embedding = get_bert_embedding(pattern)\n",
    "    output_row = label_binarizer.transform([tag])[0]\n",
    "    training.append((embedding.flatten(), output_row))\n",
    "\n",
    "random.shuffle(training)\n",
    "training = np.array(training, dtype=object)\n",
    "\n",
    "train_x = np.array([item[0] for item in training])\n",
    "train_y = np.array([item[1] for item in training])"
   ]
  },
  {
   "cell_type": "markdown",
   "metadata": {},
   "source": [
    "# Splitting Training and Validation Data\n",
    "\n",
    "- Splits the dataset into an 80% training and 20% validation set.\n",
    "- Defines an exponential learning rate decay schedule for the optimizer.\n"
   ]
  },
  {
   "cell_type": "code",
   "execution_count": 10,
   "metadata": {},
   "outputs": [],
   "source": [
    "from tensorflow.keras.optimizers.schedules import ExponentialDecay\n",
    "\n",
    "# Splitting data into training and validation sets (80% training, 20% validation)\n",
    "split_idx = int(0.8 * len(train_x))\n",
    "X_train, X_val = train_x[:split_idx], train_x[split_idx:]\n",
    "y_train, y_val = train_y[:split_idx], train_y[split_idx:]\n",
    "\n",
    "# Define learning rate schedule\n",
    "lr_schedule = ExponentialDecay(\n",
    "    initial_learning_rate=0.0001,\n",
    "    decay_steps=100000,\n",
    "    decay_rate=0.96,\n",
    "    staircase=True\n",
    ")"
   ]
  },
  {
   "cell_type": "code",
   "execution_count": 11,
   "metadata": {},
   "outputs": [
    {
     "name": "stderr",
     "output_type": "stream",
     "text": [
      "c:\\Users\\Hp\\AppData\\Local\\Programs\\Python\\Python311\\Lib\\site-packages\\keras\\src\\layers\\core\\dense.py:87: UserWarning: Do not pass an `input_shape`/`input_dim` argument to a layer. When using Sequential models, prefer using an `Input(shape)` object as the first layer in the model instead.\n",
      "  super().__init__(activity_regularizer=activity_regularizer, **kwargs)\n"
     ]
    },
    {
     "data": {
      "text/html": [
       "<pre style=\"white-space:pre;overflow-x:auto;line-height:normal;font-family:Menlo,'DejaVu Sans Mono',consolas,'Courier New',monospace\"><span style=\"font-weight: bold\">Model: \"sequential\"</span>\n",
       "</pre>\n"
      ],
      "text/plain": [
       "\u001b[1mModel: \"sequential\"\u001b[0m\n"
      ]
     },
     "metadata": {},
     "output_type": "display_data"
    },
    {
     "data": {
      "text/html": [
       "<pre style=\"white-space:pre;overflow-x:auto;line-height:normal;font-family:Menlo,'DejaVu Sans Mono',consolas,'Courier New',monospace\">┏━━━━━━━━━━━━━━━━━━━━━━━━━━━━━━━━━┳━━━━━━━━━━━━━━━━━━━━━━━━┳━━━━━━━━━━━━━━━┓\n",
       "┃<span style=\"font-weight: bold\"> Layer (type)                    </span>┃<span style=\"font-weight: bold\"> Output Shape           </span>┃<span style=\"font-weight: bold\">       Param # </span>┃\n",
       "┡━━━━━━━━━━━━━━━━━━━━━━━━━━━━━━━━━╇━━━━━━━━━━━━━━━━━━━━━━━━╇━━━━━━━━━━━━━━━┩\n",
       "│ dense (<span style=\"color: #0087ff; text-decoration-color: #0087ff\">Dense</span>)                   │ (<span style=\"color: #00d7ff; text-decoration-color: #00d7ff\">None</span>, <span style=\"color: #00af00; text-decoration-color: #00af00\">128</span>)            │        <span style=\"color: #00af00; text-decoration-color: #00af00\">98,432</span> │\n",
       "├─────────────────────────────────┼────────────────────────┼───────────────┤\n",
       "│ dropout (<span style=\"color: #0087ff; text-decoration-color: #0087ff\">Dropout</span>)               │ (<span style=\"color: #00d7ff; text-decoration-color: #00d7ff\">None</span>, <span style=\"color: #00af00; text-decoration-color: #00af00\">128</span>)            │             <span style=\"color: #00af00; text-decoration-color: #00af00\">0</span> │\n",
       "├─────────────────────────────────┼────────────────────────┼───────────────┤\n",
       "│ dense_1 (<span style=\"color: #0087ff; text-decoration-color: #0087ff\">Dense</span>)                 │ (<span style=\"color: #00d7ff; text-decoration-color: #00d7ff\">None</span>, <span style=\"color: #00af00; text-decoration-color: #00af00\">64</span>)             │         <span style=\"color: #00af00; text-decoration-color: #00af00\">8,256</span> │\n",
       "├─────────────────────────────────┼────────────────────────┼───────────────┤\n",
       "│ dropout_1 (<span style=\"color: #0087ff; text-decoration-color: #0087ff\">Dropout</span>)             │ (<span style=\"color: #00d7ff; text-decoration-color: #00d7ff\">None</span>, <span style=\"color: #00af00; text-decoration-color: #00af00\">64</span>)             │             <span style=\"color: #00af00; text-decoration-color: #00af00\">0</span> │\n",
       "├─────────────────────────────────┼────────────────────────┼───────────────┤\n",
       "│ dense_2 (<span style=\"color: #0087ff; text-decoration-color: #0087ff\">Dense</span>)                 │ (<span style=\"color: #00d7ff; text-decoration-color: #00d7ff\">None</span>, <span style=\"color: #00af00; text-decoration-color: #00af00\">79</span>)             │         <span style=\"color: #00af00; text-decoration-color: #00af00\">5,135</span> │\n",
       "└─────────────────────────────────┴────────────────────────┴───────────────┘\n",
       "</pre>\n"
      ],
      "text/plain": [
       "┏━━━━━━━━━━━━━━━━━━━━━━━━━━━━━━━━━┳━━━━━━━━━━━━━━━━━━━━━━━━┳━━━━━━━━━━━━━━━┓\n",
       "┃\u001b[1m \u001b[0m\u001b[1mLayer (type)                   \u001b[0m\u001b[1m \u001b[0m┃\u001b[1m \u001b[0m\u001b[1mOutput Shape          \u001b[0m\u001b[1m \u001b[0m┃\u001b[1m \u001b[0m\u001b[1m      Param #\u001b[0m\u001b[1m \u001b[0m┃\n",
       "┡━━━━━━━━━━━━━━━━━━━━━━━━━━━━━━━━━╇━━━━━━━━━━━━━━━━━━━━━━━━╇━━━━━━━━━━━━━━━┩\n",
       "│ dense (\u001b[38;5;33mDense\u001b[0m)                   │ (\u001b[38;5;45mNone\u001b[0m, \u001b[38;5;34m128\u001b[0m)            │        \u001b[38;5;34m98,432\u001b[0m │\n",
       "├─────────────────────────────────┼────────────────────────┼───────────────┤\n",
       "│ dropout (\u001b[38;5;33mDropout\u001b[0m)               │ (\u001b[38;5;45mNone\u001b[0m, \u001b[38;5;34m128\u001b[0m)            │             \u001b[38;5;34m0\u001b[0m │\n",
       "├─────────────────────────────────┼────────────────────────┼───────────────┤\n",
       "│ dense_1 (\u001b[38;5;33mDense\u001b[0m)                 │ (\u001b[38;5;45mNone\u001b[0m, \u001b[38;5;34m64\u001b[0m)             │         \u001b[38;5;34m8,256\u001b[0m │\n",
       "├─────────────────────────────────┼────────────────────────┼───────────────┤\n",
       "│ dropout_1 (\u001b[38;5;33mDropout\u001b[0m)             │ (\u001b[38;5;45mNone\u001b[0m, \u001b[38;5;34m64\u001b[0m)             │             \u001b[38;5;34m0\u001b[0m │\n",
       "├─────────────────────────────────┼────────────────────────┼───────────────┤\n",
       "│ dense_2 (\u001b[38;5;33mDense\u001b[0m)                 │ (\u001b[38;5;45mNone\u001b[0m, \u001b[38;5;34m79\u001b[0m)             │         \u001b[38;5;34m5,135\u001b[0m │\n",
       "└─────────────────────────────────┴────────────────────────┴───────────────┘\n"
      ]
     },
     "metadata": {},
     "output_type": "display_data"
    },
    {
     "data": {
      "text/html": [
       "<pre style=\"white-space:pre;overflow-x:auto;line-height:normal;font-family:Menlo,'DejaVu Sans Mono',consolas,'Courier New',monospace\"><span style=\"font-weight: bold\"> Total params: </span><span style=\"color: #00af00; text-decoration-color: #00af00\">111,823</span> (436.81 KB)\n",
       "</pre>\n"
      ],
      "text/plain": [
       "\u001b[1m Total params: \u001b[0m\u001b[38;5;34m111,823\u001b[0m (436.81 KB)\n"
      ]
     },
     "metadata": {},
     "output_type": "display_data"
    },
    {
     "data": {
      "text/html": [
       "<pre style=\"white-space:pre;overflow-x:auto;line-height:normal;font-family:Menlo,'DejaVu Sans Mono',consolas,'Courier New',monospace\"><span style=\"font-weight: bold\"> Trainable params: </span><span style=\"color: #00af00; text-decoration-color: #00af00\">111,823</span> (436.81 KB)\n",
       "</pre>\n"
      ],
      "text/plain": [
       "\u001b[1m Trainable params: \u001b[0m\u001b[38;5;34m111,823\u001b[0m (436.81 KB)\n"
      ]
     },
     "metadata": {},
     "output_type": "display_data"
    },
    {
     "data": {
      "text/html": [
       "<pre style=\"white-space:pre;overflow-x:auto;line-height:normal;font-family:Menlo,'DejaVu Sans Mono',consolas,'Courier New',monospace\"><span style=\"font-weight: bold\"> Non-trainable params: </span><span style=\"color: #00af00; text-decoration-color: #00af00\">0</span> (0.00 B)\n",
       "</pre>\n"
      ],
      "text/plain": [
       "\u001b[1m Non-trainable params: \u001b[0m\u001b[38;5;34m0\u001b[0m (0.00 B)\n"
      ]
     },
     "metadata": {},
     "output_type": "display_data"
    }
   ],
   "source": [
    "from tensorflow.keras.optimizers.schedules import ExponentialDecay\n",
    "from tensorflow.keras.models import Sequential\n",
    "from tensorflow.keras.layers import Dense, Dropout\n",
    "from tensorflow.keras.regularizers import l2\n",
    "from tensorflow.keras.optimizers import SGD\n",
    "\n",
    "# Define model architecture with regularization (NO BATCH NORMALIZATION)\n",
    "model = Sequential([\n",
    "    Dense(128, input_shape=(len(train_x[1]),), activation='relu', kernel_regularizer=l2(0.01)),\n",
    "    Dropout(0.4),\n",
    "\n",
    "    Dense(64, activation='relu', kernel_regularizer=l2(0.01)),\n",
    "    Dropout(0.4),\n",
    "\n",
    "    Dense(len(train_y[0]), activation='softmax')\n",
    "])\n",
    "\n",
    "# Define learning rate schedule\n",
    "lr_schedule = ExponentialDecay(\n",
    "    initial_learning_rate=0.0001,\n",
    "    decay_steps=100000,\n",
    "    decay_rate=0.96,\n",
    "    staircase=True\n",
    ")\n",
    "\n",
    "# Use the SGD optimizer with the learning rate schedule\n",
    "sgd = SGD(learning_rate=lr_schedule, momentum=0.9, nesterov=True)\n",
    "\n",
    "# Compile with Adam optimizer\n",
    "model.compile(loss='categorical_crossentropy', optimizer='adam', metrics=['accuracy', 'Precision', 'Recall'])\n",
    "\n",
    "# Model summary\n",
    "model.summary()\n"
   ]
  },
  {
   "cell_type": "code",
   "execution_count": 12,
   "metadata": {},
   "outputs": [
    {
     "name": "stdout",
     "output_type": "stream",
     "text": [
      "Epoch 1/50\n",
      "\u001b[1m46/46\u001b[0m \u001b[32m━━━━━━━━━━━━━━━━━━━━\u001b[0m\u001b[37m\u001b[0m \u001b[1m8s\u001b[0m 20ms/step - Precision: 0.0000e+00 - Recall: 0.0000e+00 - accuracy: 0.0210 - loss: 7.1102 - val_Precision: 0.0000e+00 - val_Recall: 0.0000e+00 - val_accuracy: 0.1583 - val_loss: 6.0523\n",
      "Epoch 2/50\n",
      "\u001b[1m46/46\u001b[0m \u001b[32m━━━━━━━━━━━━━━━━━━━━\u001b[0m\u001b[37m\u001b[0m \u001b[1m0s\u001b[0m 5ms/step - Precision: 0.3085 - Recall: 9.0648e-04 - accuracy: 0.1325 - loss: 5.7747 - val_Precision: 0.0000e+00 - val_Recall: 0.0000e+00 - val_accuracy: 0.2086 - val_loss: 5.0867\n",
      "Epoch 3/50\n",
      "\u001b[1m46/46\u001b[0m \u001b[32m━━━━━━━━━━━━━━━━━━━━\u001b[0m\u001b[37m\u001b[0m \u001b[1m0s\u001b[0m 4ms/step - Precision: 0.1666 - Recall: 0.0021 - accuracy: 0.1641 - loss: 4.9866 - val_Precision: 0.0000e+00 - val_Recall: 0.0000e+00 - val_accuracy: 0.3094 - val_loss: 4.4374\n",
      "Epoch 4/50\n",
      "\u001b[1m46/46\u001b[0m \u001b[32m━━━━━━━━━━━━━━━━━━━━\u001b[0m\u001b[37m\u001b[0m \u001b[1m0s\u001b[0m 5ms/step - Precision: 0.9270 - Recall: 0.0347 - accuracy: 0.2518 - loss: 4.3022 - val_Precision: 1.0000 - val_Recall: 0.0216 - val_accuracy: 0.3453 - val_loss: 4.0051\n",
      "Epoch 5/50\n",
      "\u001b[1m46/46\u001b[0m \u001b[32m━━━━━━━━━━━━━━━━━━━━\u001b[0m\u001b[37m\u001b[0m \u001b[1m0s\u001b[0m 5ms/step - Precision: 0.8742 - Recall: 0.0538 - accuracy: 0.3158 - loss: 3.9693 - val_Precision: 1.0000 - val_Recall: 0.0719 - val_accuracy: 0.3669 - val_loss: 3.6868\n",
      "Epoch 6/50\n",
      "\u001b[1m46/46\u001b[0m \u001b[32m━━━━━━━━━━━━━━━━━━━━\u001b[0m\u001b[37m\u001b[0m \u001b[1m0s\u001b[0m 6ms/step - Precision: 0.9227 - Recall: 0.1066 - accuracy: 0.4204 - loss: 3.4105 - val_Precision: 1.0000 - val_Recall: 0.0791 - val_accuracy: 0.4173 - val_loss: 3.3855\n",
      "Epoch 7/50\n",
      "\u001b[1m46/46\u001b[0m \u001b[32m━━━━━━━━━━━━━━━━━━━━\u001b[0m\u001b[37m\u001b[0m \u001b[1m0s\u001b[0m 5ms/step - Precision: 0.8428 - Recall: 0.1194 - accuracy: 0.4163 - loss: 3.2807 - val_Precision: 0.8421 - val_Recall: 0.1151 - val_accuracy: 0.5324 - val_loss: 3.1494\n",
      "Epoch 8/50\n",
      "\u001b[1m46/46\u001b[0m \u001b[32m━━━━━━━━━━━━━━━━━━━━\u001b[0m\u001b[37m\u001b[0m \u001b[1m0s\u001b[0m 7ms/step - Precision: 0.8873 - Recall: 0.1356 - accuracy: 0.4619 - loss: 3.0373 - val_Precision: 0.7857 - val_Recall: 0.1583 - val_accuracy: 0.5612 - val_loss: 3.0126\n",
      "Epoch 9/50\n",
      "\u001b[1m46/46\u001b[0m \u001b[32m━━━━━━━━━━━━━━━━━━━━\u001b[0m\u001b[37m\u001b[0m \u001b[1m0s\u001b[0m 4ms/step - Precision: 0.7643 - Recall: 0.1550 - accuracy: 0.4780 - loss: 2.8915 - val_Precision: 0.8889 - val_Recall: 0.1727 - val_accuracy: 0.5827 - val_loss: 2.8702\n",
      "Epoch 10/50\n",
      "\u001b[1m46/46\u001b[0m \u001b[32m━━━━━━━━━━━━━━━━━━━━\u001b[0m\u001b[37m\u001b[0m \u001b[1m0s\u001b[0m 4ms/step - Precision: 0.8561 - Recall: 0.2256 - accuracy: 0.5176 - loss: 2.7155 - val_Precision: 0.8250 - val_Recall: 0.2374 - val_accuracy: 0.6187 - val_loss: 2.7819\n",
      "Epoch 11/50\n",
      "\u001b[1m46/46\u001b[0m \u001b[32m━━━━━━━━━━━━━━━━━━━━\u001b[0m\u001b[37m\u001b[0m \u001b[1m0s\u001b[0m 5ms/step - Precision: 0.8828 - Recall: 0.2533 - accuracy: 0.5497 - loss: 2.6011 - val_Precision: 0.9024 - val_Recall: 0.2662 - val_accuracy: 0.6259 - val_loss: 2.6105\n",
      "Epoch 12/50\n",
      "\u001b[1m46/46\u001b[0m \u001b[32m━━━━━━━━━━━━━━━━━━━━\u001b[0m\u001b[37m\u001b[0m \u001b[1m0s\u001b[0m 5ms/step - Precision: 0.8277 - Recall: 0.2325 - accuracy: 0.5282 - loss: 2.5923 - val_Precision: 0.9200 - val_Recall: 0.3309 - val_accuracy: 0.6403 - val_loss: 2.5023\n",
      "Epoch 13/50\n",
      "\u001b[1m46/46\u001b[0m \u001b[32m━━━━━━━━━━━━━━━━━━━━\u001b[0m\u001b[37m\u001b[0m \u001b[1m0s\u001b[0m 4ms/step - Precision: 0.9290 - Recall: 0.3013 - accuracy: 0.6159 - loss: 2.4274 - val_Precision: 0.9259 - val_Recall: 0.3597 - val_accuracy: 0.6547 - val_loss: 2.4398\n",
      "Epoch 14/50\n",
      "\u001b[1m46/46\u001b[0m \u001b[32m━━━━━━━━━━━━━━━━━━━━\u001b[0m\u001b[37m\u001b[0m \u001b[1m0s\u001b[0m 5ms/step - Precision: 0.8891 - Recall: 0.3428 - accuracy: 0.6031 - loss: 2.4097 - val_Precision: 0.8548 - val_Recall: 0.3813 - val_accuracy: 0.6619 - val_loss: 2.4510\n",
      "Epoch 15/50\n",
      "\u001b[1m46/46\u001b[0m \u001b[32m━━━━━━━━━━━━━━━━━━━━\u001b[0m\u001b[37m\u001b[0m \u001b[1m0s\u001b[0m 4ms/step - Precision: 0.9294 - Recall: 0.3330 - accuracy: 0.6193 - loss: 2.3317 - val_Precision: 0.8769 - val_Recall: 0.4101 - val_accuracy: 0.6906 - val_loss: 2.3361\n",
      "Epoch 16/50\n",
      "\u001b[1m46/46\u001b[0m \u001b[32m━━━━━━━━━━━━━━━━━━━━\u001b[0m\u001b[37m\u001b[0m \u001b[1m0s\u001b[0m 4ms/step - Precision: 0.9448 - Recall: 0.3777 - accuracy: 0.6477 - loss: 2.2472 - val_Precision: 0.8732 - val_Recall: 0.4460 - val_accuracy: 0.7050 - val_loss: 2.2774\n",
      "Epoch 17/50\n",
      "\u001b[1m46/46\u001b[0m \u001b[32m━━━━━━━━━━━━━━━━━━━━\u001b[0m\u001b[37m\u001b[0m \u001b[1m0s\u001b[0m 6ms/step - Precision: 0.9087 - Recall: 0.3385 - accuracy: 0.6053 - loss: 2.2665 - val_Precision: 0.8714 - val_Recall: 0.4388 - val_accuracy: 0.7122 - val_loss: 2.2112\n",
      "Epoch 18/50\n",
      "\u001b[1m46/46\u001b[0m \u001b[32m━━━━━━━━━━━━━━━━━━━━\u001b[0m\u001b[37m\u001b[0m \u001b[1m0s\u001b[0m 4ms/step - Precision: 0.9501 - Recall: 0.3921 - accuracy: 0.6468 - loss: 2.1919 - val_Precision: 0.8696 - val_Recall: 0.4317 - val_accuracy: 0.6763 - val_loss: 2.2011\n",
      "Epoch 19/50\n",
      "\u001b[1m46/46\u001b[0m \u001b[32m━━━━━━━━━━━━━━━━━━━━\u001b[0m\u001b[37m\u001b[0m \u001b[1m0s\u001b[0m 6ms/step - Precision: 0.9035 - Recall: 0.3754 - accuracy: 0.6506 - loss: 2.1543 - val_Precision: 0.8816 - val_Recall: 0.4820 - val_accuracy: 0.6978 - val_loss: 2.1128\n",
      "Epoch 20/50\n",
      "\u001b[1m46/46\u001b[0m \u001b[32m━━━━━━━━━━━━━━━━━━━━\u001b[0m\u001b[37m\u001b[0m \u001b[1m0s\u001b[0m 4ms/step - Precision: 0.8958 - Recall: 0.3919 - accuracy: 0.6456 - loss: 2.0702 - val_Precision: 0.8784 - val_Recall: 0.4676 - val_accuracy: 0.7122 - val_loss: 2.1152\n",
      "Epoch 21/50\n",
      "\u001b[1m46/46\u001b[0m \u001b[32m━━━━━━━━━━━━━━━━━━━━\u001b[0m\u001b[37m\u001b[0m \u001b[1m0s\u001b[0m 4ms/step - Precision: 0.8991 - Recall: 0.4301 - accuracy: 0.6885 - loss: 2.0401 - val_Precision: 0.8861 - val_Recall: 0.5036 - val_accuracy: 0.7266 - val_loss: 2.0629\n",
      "Epoch 22/50\n",
      "\u001b[1m46/46\u001b[0m \u001b[32m━━━━━━━━━━━━━━━━━━━━\u001b[0m\u001b[37m\u001b[0m \u001b[1m0s\u001b[0m 4ms/step - Precision: 0.9401 - Recall: 0.4491 - accuracy: 0.6975 - loss: 2.0130 - val_Precision: 0.8684 - val_Recall: 0.4748 - val_accuracy: 0.7194 - val_loss: 2.1033\n",
      "Epoch 23/50\n",
      "\u001b[1m46/46\u001b[0m \u001b[32m━━━━━━━━━━━━━━━━━━━━\u001b[0m\u001b[37m\u001b[0m \u001b[1m0s\u001b[0m 4ms/step - Precision: 0.8973 - Recall: 0.4058 - accuracy: 0.6763 - loss: 2.0648 - val_Precision: 0.8684 - val_Recall: 0.4748 - val_accuracy: 0.7482 - val_loss: 2.0545\n",
      "Epoch 24/50\n",
      "\u001b[1m46/46\u001b[0m \u001b[32m━━━━━━━━━━━━━━━━━━━━\u001b[0m\u001b[37m\u001b[0m \u001b[1m0s\u001b[0m 5ms/step - Precision: 0.9156 - Recall: 0.4145 - accuracy: 0.7376 - loss: 1.9311 - val_Precision: 0.8916 - val_Recall: 0.5324 - val_accuracy: 0.7626 - val_loss: 2.0218\n",
      "Epoch 25/50\n",
      "\u001b[1m46/46\u001b[0m \u001b[32m━━━━━━━━━━━━━━━━━━━━\u001b[0m\u001b[37m\u001b[0m \u001b[1m0s\u001b[0m 4ms/step - Precision: 0.9068 - Recall: 0.4925 - accuracy: 0.6999 - loss: 1.9176 - val_Precision: 0.8861 - val_Recall: 0.5036 - val_accuracy: 0.7770 - val_loss: 2.0047\n",
      "Epoch 26/50\n",
      "\u001b[1m46/46\u001b[0m \u001b[32m━━━━━━━━━━━━━━━━━━━━\u001b[0m\u001b[37m\u001b[0m \u001b[1m0s\u001b[0m 5ms/step - Precision: 0.9122 - Recall: 0.4661 - accuracy: 0.6924 - loss: 1.9039 - val_Precision: 0.8721 - val_Recall: 0.5396 - val_accuracy: 0.7626 - val_loss: 1.9891\n",
      "Epoch 27/50\n",
      "\u001b[1m46/46\u001b[0m \u001b[32m━━━━━━━━━━━━━━━━━━━━\u001b[0m\u001b[37m\u001b[0m \u001b[1m0s\u001b[0m 5ms/step - Precision: 0.9425 - Recall: 0.5212 - accuracy: 0.7785 - loss: 1.7910 - val_Precision: 0.8916 - val_Recall: 0.5324 - val_accuracy: 0.7986 - val_loss: 1.9449\n",
      "Epoch 28/50\n",
      "\u001b[1m46/46\u001b[0m \u001b[32m━━━━━━━━━━━━━━━━━━━━\u001b[0m\u001b[37m\u001b[0m \u001b[1m0s\u001b[0m 5ms/step - Precision: 0.9034 - Recall: 0.4847 - accuracy: 0.7208 - loss: 1.8874 - val_Precision: 0.8902 - val_Recall: 0.5252 - val_accuracy: 0.7914 - val_loss: 1.9288\n",
      "Epoch 29/50\n",
      "\u001b[1m46/46\u001b[0m \u001b[32m━━━━━━━━━━━━━━━━━━━━\u001b[0m\u001b[37m\u001b[0m \u001b[1m0s\u001b[0m 4ms/step - Precision: 0.9302 - Recall: 0.4846 - accuracy: 0.7332 - loss: 1.8191 - val_Precision: 0.8966 - val_Recall: 0.5612 - val_accuracy: 0.7914 - val_loss: 1.9132\n",
      "Epoch 30/50\n",
      "\u001b[1m46/46\u001b[0m \u001b[32m━━━━━━━━━━━━━━━━━━━━\u001b[0m\u001b[37m\u001b[0m \u001b[1m0s\u001b[0m 4ms/step - Precision: 0.9478 - Recall: 0.5291 - accuracy: 0.7633 - loss: 1.7797 - val_Precision: 0.8706 - val_Recall: 0.5324 - val_accuracy: 0.8201 - val_loss: 1.8597\n",
      "Epoch 31/50\n",
      "\u001b[1m46/46\u001b[0m \u001b[32m━━━━━━━━━━━━━━━━━━━━\u001b[0m\u001b[37m\u001b[0m \u001b[1m0s\u001b[0m 4ms/step - Precision: 0.9301 - Recall: 0.4938 - accuracy: 0.7168 - loss: 1.8616 - val_Precision: 0.8750 - val_Recall: 0.6043 - val_accuracy: 0.8345 - val_loss: 1.8244\n",
      "Epoch 32/50\n",
      "\u001b[1m46/46\u001b[0m \u001b[32m━━━━━━━━━━━━━━━━━━━━\u001b[0m\u001b[37m\u001b[0m \u001b[1m0s\u001b[0m 4ms/step - Precision: 0.9176 - Recall: 0.5205 - accuracy: 0.7138 - loss: 1.7804 - val_Precision: 0.9053 - val_Recall: 0.6187 - val_accuracy: 0.8201 - val_loss: 1.8395\n",
      "Epoch 33/50\n",
      "\u001b[1m46/46\u001b[0m \u001b[32m━━━━━━━━━━━━━━━━━━━━\u001b[0m\u001b[37m\u001b[0m \u001b[1m0s\u001b[0m 4ms/step - Precision: 0.9368 - Recall: 0.5199 - accuracy: 0.7649 - loss: 1.7736 - val_Precision: 0.9091 - val_Recall: 0.6475 - val_accuracy: 0.8201 - val_loss: 1.8220\n",
      "Epoch 34/50\n",
      "\u001b[1m46/46\u001b[0m \u001b[32m━━━━━━━━━━━━━━━━━━━━\u001b[0m\u001b[37m\u001b[0m \u001b[1m0s\u001b[0m 4ms/step - Precision: 0.9586 - Recall: 0.5628 - accuracy: 0.7877 - loss: 1.6878 - val_Precision: 0.8922 - val_Recall: 0.6547 - val_accuracy: 0.8345 - val_loss: 1.7571\n",
      "Epoch 35/50\n",
      "\u001b[1m46/46\u001b[0m \u001b[32m━━━━━━━━━━━━━━━━━━━━\u001b[0m\u001b[37m\u001b[0m \u001b[1m0s\u001b[0m 4ms/step - Precision: 0.9230 - Recall: 0.5476 - accuracy: 0.7556 - loss: 1.7150 - val_Precision: 0.8947 - val_Recall: 0.6115 - val_accuracy: 0.8489 - val_loss: 1.7904\n",
      "Epoch 36/50\n",
      "\u001b[1m46/46\u001b[0m \u001b[32m━━━━━━━━━━━━━━━━━━━━\u001b[0m\u001b[37m\u001b[0m \u001b[1m0s\u001b[0m 4ms/step - Precision: 0.9464 - Recall: 0.5659 - accuracy: 0.7504 - loss: 1.7258 - val_Precision: 0.8980 - val_Recall: 0.6331 - val_accuracy: 0.8489 - val_loss: 1.7981\n",
      "Epoch 37/50\n",
      "\u001b[1m46/46\u001b[0m \u001b[32m━━━━━━━━━━━━━━━━━━━━\u001b[0m\u001b[37m\u001b[0m \u001b[1m0s\u001b[0m 4ms/step - Precision: 0.9266 - Recall: 0.5509 - accuracy: 0.7690 - loss: 1.7075 - val_Precision: 0.9208 - val_Recall: 0.6691 - val_accuracy: 0.8561 - val_loss: 1.7921\n"
     ]
    },
    {
     "name": "stderr",
     "output_type": "stream",
     "text": [
      "WARNING:absl:You are saving your model as an HDF5 file via `model.save()` or `keras.saving.save_model(model)`. This file format is considered legacy. We recommend using instead the native Keras format, e.g. `model.save('my_model.keras')` or `keras.saving.save_model(model, 'my_model.keras')`. \n"
     ]
    },
    {
     "name": "stdout",
     "output_type": "stream",
     "text": [
      "Training Complete\n"
     ]
    }
   ],
   "source": [
    "from tensorflow.keras.callbacks import EarlyStopping\n",
    "\n",
    "early_stop = EarlyStopping(monitor='val_loss', patience=3, restore_best_weights=True)\n",
    "\n",
    "hist = model.fit(np.array(train_x), np.array(train_y), \n",
    "                 epochs=50, batch_size=12, \n",
    "                 validation_split=0.2, \n",
    "                 callbacks=[early_stop], \n",
    "                 verbose=1)\n",
    "\n",
    "model.save('../model/conversationalchatbotmodel.h5', hist)\n",
    "print('Training Complete')"
   ]
  },
  {
   "cell_type": "code",
   "execution_count": 13,
   "metadata": {},
   "outputs": [
    {
     "data": {
      "image/png": "[encoded data removed]",
      "text/plain": [
       "<Figure size 640x480 with 1 Axes>"
      ]
     },
     "metadata": {},
     "output_type": "display_data"
    }
   ],
   "source": [
    "\n",
    "# Plot training accuracy and loss over epochs\n",
    "plt.plot(hist.history['accuracy'], label='accuracy')\n",
    "plt.plot(hist.history['loss'], label='loss')\n",
    "plt.xlabel('Epochs')\n",
    "plt.ylabel('Value')\n",
    "plt.title('Training Accuracy and Loss')\n",
    "plt.legend()\n",
    "plt.show()"
   ]
  },
  {
   "cell_type": "markdown",
   "metadata": {},
   "source": [
    "# Loading the Model for Chatbot Prediction\n",
    "\n",
    "- Loads the trained chatbot model.\n",
    "- Defines a function `predict_class()` to classify user input.\n",
    "- Implements a chatbot loop that takes user input, predicts intent, and generates a response.\n"
   ]
  },
  {
   "cell_type": "code",
   "execution_count": null,
   "metadata": {},
   "outputs": [
    {
     "name": "stderr",
     "output_type": "stream",
     "text": [
      "WARNING:absl:Compiled the loaded model, but the compiled metrics have yet to be built. `model.compile_metrics` will be empty until you train or evaluate the model.\n"
     ]
    },
    {
     "name": "stdout",
     "output_type": "stream",
     "text": [
      "CHAT_BOT IS LIVE NOW....\n",
      "\u001b[1m1/1\u001b[0m \u001b[32m━━━━━━━━━━━━━━━━━━━━\u001b[0m\u001b[37m\u001b[0m \u001b[1m0s\u001b[0m 94ms/step\n",
      "Bot: Hello there. Tell me how are you feeling today?\n",
      "\u001b[1m1/1\u001b[0m \u001b[32m━━━━━━━━━━━━━━━━━━━━\u001b[0m\u001b[37m\u001b[0m \u001b[1m0s\u001b[0m 36ms/step\n",
      "Bot: That's geat to hear. I'm glad you're feeling this way.\n",
      "\u001b[1m1/1\u001b[0m \u001b[32m━━━━━━━━━━━━━━━━━━━━\u001b[0m\u001b[37m\u001b[0m \u001b[1m0s\u001b[0m 40ms/step\n",
      "Bot: I'm Pandora, your Personal Therapeutic AI Assistant. How are you feeling today\n",
      "\u001b[1m1/1\u001b[0m \u001b[32m━━━━━━━━━━━━━━━━━━━━\u001b[0m\u001b[37m\u001b[0m \u001b[1m0s\u001b[0m 45ms/step\n",
      "Bot: I was created by Charite😌\n",
      "\u001b[1m1/1\u001b[0m \u001b[32m━━━━━━━━━━━━━━━━━━━━\u001b[0m\u001b[37m\u001b[0m \u001b[1m0s\u001b[0m 34ms/step\n",
      "Bot: Duh I live in your computer\n",
      "\u001b[1m1/1\u001b[0m \u001b[32m━━━━━━━━━━━━━━━━━━━━\u001b[0m\u001b[37m\u001b[0m \u001b[1m0s\u001b[0m 36ms/step\n",
      "Bot: Sure. I'll try my best to answer you\n",
      "\u001b[1m1/1\u001b[0m \u001b[32m━━━━━━━━━━━━━━━━━━━━\u001b[0m\u001b[37m\u001b[0m \u001b[1m0s\u001b[0m 35ms/step\n",
      "Bot: For a diagnosis of depression, a person needs to have experienced low mood or loss of interest or pleasure in life for at least 2 weeks. Also, they will have experienced the following symptoms: feelings of sadness, hopelessness, or irritability nearly every day.\n",
      "\u001b[1m1/1\u001b[0m \u001b[32m━━━━━━━━━━━━━━━━━━━━\u001b[0m\u001b[37m\u001b[0m \u001b[1m0s\u001b[0m 37ms/step\n",
      "Bot: Let's discuss further why you're feeling this way.\n",
      "\u001b[1m1/1\u001b[0m \u001b[32m━━━━━━━━━━━━━━━━━━━━\u001b[0m\u001b[37m\u001b[0m \u001b[1m0s\u001b[0m 35ms/step\n",
      "Bot: Happy to help!\n",
      "\u001b[1m1/1\u001b[0m \u001b[32m━━━━━━━━━━━━━━━━━━━━\u001b[0m\u001b[37m\u001b[0m \u001b[1m0s\u001b[0m 71ms/step\n",
      "Bot: Let's discuss further why you're feeling this way.\n"
     ]
    }
   ],
   "source": [
    "# Load the model for prediction\n",
    "model = load_model('../model/conversationalchatbotmodel.h5')\n",
    "\n",
    "def predict_class(sentence):\n",
    "    embedding = get_bert_embedding(sentence)\n",
    "    res = model.predict(embedding)[0]\n",
    "    ERROR_THRESHOLD = 0.25\n",
    "    results = [[i, r] for i, r in enumerate(res) if r > ERROR_THRESHOLD]\n",
    "    results.sort(key=lambda x: x[1], reverse=True)\n",
    "    return_list = [{'intent': classes[r[0]], 'probability': str(r[1])} for r in results]\n",
    "    return return_list\n",
    "\n",
    "def get_response(intents_list, intents_json):\n",
    "    tag = intents_list[0]['intent']\n",
    "    for i in intents_json['intents']:\n",
    "        if tag in i['tags']:\n",
    "            return random.choice(i['responses'])\n",
    "    return \"Sorry, I don't understand.\"\n",
    "\n",
    "print(\"CHAT_BOT IS LIVE NOW....\")\n",
    "\n",
    "while True:\n",
    "    message = input(\"\")\n",
    "    if message.lower() in ['quit', 'exit']:\n",
    "        print(\"Goodbye\")\n",
    "        break\n",
    "    ints = predict_class(message)\n",
    "    if ints:\n",
    "        res = get_response(ints, dict_)\n",
    "        print(f\"Bot: {res}\")\n",
    "    else:\n",
    "        print(\"Bot: Sorry, I don't understand.\")"
   ]
  },
  {
   "cell_type": "markdown",
   "metadata": {},
   "source": [
    "# Evaluating Model Performance\n",
    "\n",
    "- Uses classification metrics (`accuracy_score`, `f1_score`, and `classification_report`).\n",
    "- Compares predicted vs. actual labels.\n",
    "- Displays a detailed classification report for model evaluation.\n"
   ]
  },
  {
   "cell_type": "code",
   "execution_count": null,
   "metadata": {},
   "outputs": [
    {
     "name": "stdout",
     "output_type": "stream",
     "text": [
      "\u001b[1m22/22\u001b[0m \u001b[32m━━━━━━━━━━━━━━━━━━━━\u001b[0m\u001b[37m\u001b[0m \u001b[1m1s\u001b[0m 5ms/step\n",
      "Accuracy: 0.9363\n",
      "F1 Score: 0.9262\n",
      "Classification Report:\n",
      "              precision    recall  f1-score   support\n",
      "\n",
      "           0       1.00      1.00      1.00        30\n",
      "           1       1.00      1.00      1.00         2\n",
      "           2       1.00      1.00      1.00         6\n",
      "           3       1.00      1.00      1.00         4\n",
      "           4       0.89      1.00      0.94        24\n",
      "           5       1.00      1.00      1.00        12\n",
      "           6       1.00      1.00      1.00        12\n",
      "           7       1.00      1.00      1.00        16\n",
      "           8       0.80      0.80      0.80        10\n",
      "           9       1.00      1.00      1.00        12\n",
      "          10       1.00      1.00      1.00         2\n",
      "          11       1.00      1.00      1.00         6\n",
      "          12       1.00      1.00      1.00         4\n",
      "          13       1.00      1.00      1.00         4\n",
      "          14       1.00      1.00      1.00         4\n",
      "          15       0.00      0.00      0.00         4\n",
      "          16       0.00      0.00      0.00         4\n",
      "          17       1.00      1.00      1.00         4\n",
      "          18       1.00      1.00      1.00         4\n",
      "          19       1.00      1.00      1.00         4\n",
      "          20       0.50      1.00      0.67         4\n",
      "          21       1.00      1.00      1.00         4\n",
      "          22       0.62      1.00      0.76         8\n",
      "          23       1.00      1.00      1.00         4\n",
      "          24       1.00      1.00      1.00         4\n",
      "          25       1.00      1.00      1.00         4\n",
      "          26       1.00      1.00      1.00         4\n",
      "          27       1.00      1.00      1.00         4\n",
      "          28       1.00      1.00      1.00         4\n",
      "          29       1.00      1.00      1.00         8\n",
      "          30       0.00      0.00      0.00         4\n",
      "          31       1.00      1.00      1.00         4\n",
      "          32       1.00      1.00      1.00         4\n",
      "          33       1.00      0.33      0.50         6\n",
      "          34       1.00      1.00      1.00         7\n",
      "          35       1.00      1.00      1.00         4\n",
      "          36       1.00      1.00      1.00         6\n",
      "          37       0.76      1.00      0.86        16\n",
      "          38       1.00      1.00      1.00         8\n",
      "          39       0.73      0.92      0.81        12\n",
      "          40       1.00      1.00      1.00         4\n",
      "          41       1.00      0.75      0.86         4\n",
      "          42       0.00      0.00      0.00         2\n",
      "          43       0.89      1.00      0.94        16\n",
      "          44       1.00      0.92      0.96        26\n",
      "          45       0.92      1.00      0.96        22\n",
      "          46       1.00      1.00      1.00         6\n",
      "          47       1.00      1.00      1.00         6\n",
      "          48       1.00      1.00      1.00        20\n",
      "          49       1.00      1.00      1.00         4\n",
      "          50       1.00      1.00      1.00        12\n",
      "          51       1.00      0.77      0.87        13\n",
      "          52       1.00      1.00      1.00        12\n",
      "          53       1.00      1.00      1.00         8\n",
      "          54       1.00      1.00      1.00         4\n",
      "          55       1.00      1.00      1.00         2\n",
      "          56       1.00      1.00      1.00         8\n",
      "          57       1.00      1.00      1.00         2\n",
      "          58       1.00      1.00      1.00         2\n",
      "          59       1.00      0.43      0.60         7\n",
      "          60       1.00      0.71      0.83        14\n",
      "          61       1.00      0.57      0.73         7\n",
      "          62       0.69      1.00      0.82         9\n",
      "          63       1.00      1.00      1.00         8\n",
      "          64       0.88      0.88      0.88        16\n",
      "          65       1.00      1.00      1.00        13\n",
      "          66       1.00      1.00      1.00         4\n",
      "          67       1.00      1.00      1.00        20\n",
      "          68       0.78      1.00      0.88        14\n",
      "          69       0.80      0.80      0.80        10\n",
      "          70       1.00      1.00      1.00        12\n",
      "          71       1.00      1.00      1.00        12\n",
      "          72       1.00      1.00      1.00        10\n",
      "          73       1.00      1.00      1.00        21\n",
      "          74       1.00      1.00      1.00        10\n",
      "          75       1.00      1.00      1.00         9\n",
      "          76       0.70      0.78      0.74         9\n",
      "          77       0.89      1.00      0.94        16\n",
      "          78       1.00      1.00      1.00        10\n",
      "\n",
      "    accuracy                           0.94       691\n",
      "   macro avg       0.91      0.91      0.90       691\n",
      "weighted avg       0.93      0.94      0.93       691\n",
      "\n"
     ]
    },
    {
     "name": "stderr",
     "output_type": "stream",
     "text": [
      "c:\\Users\\Hp\\AppData\\Local\\Programs\\Python\\Python311\\Lib\\site-packages\\sklearn\\metrics\\_classification.py:1469: UndefinedMetricWarning: Precision and F-score are ill-defined and being set to 0.0 in labels with no predicted samples. Use `zero_division` parameter to control this behavior.\n",
      "  _warn_prf(average, modifier, msg_start, len(result))\n",
      "c:\\Users\\Hp\\AppData\\Local\\Programs\\Python\\Python311\\Lib\\site-packages\\sklearn\\metrics\\_classification.py:1469: UndefinedMetricWarning: Precision and F-score are ill-defined and being set to 0.0 in labels with no predicted samples. Use `zero_division` parameter to control this behavior.\n",
      "  _warn_prf(average, modifier, msg_start, len(result))\n",
      "c:\\Users\\Hp\\AppData\\Local\\Programs\\Python\\Python311\\Lib\\site-packages\\sklearn\\metrics\\_classification.py:1469: UndefinedMetricWarning: Precision and F-score are ill-defined and being set to 0.0 in labels with no predicted samples. Use `zero_division` parameter to control this behavior.\n",
      "  _warn_prf(average, modifier, msg_start, len(result))\n"
     ]
    }
   ],
   "source": [
    "from sklearn.metrics import classification_report, accuracy_score, f1_score\n",
    "\n",
    "# Evaluate the model\n",
    "y_pred = model.predict(train_x)\n",
    "y_pred_classes = np.argmax(y_pred, axis=1)\n",
    "y_true_classes = np.argmax(train_y, axis=1)\n",
    "\n",
    "# Calculate and print metrics\n",
    "accuracy = accuracy_score(y_true_classes, y_pred_classes)\n",
    "f1 = f1_score(y_true_classes, y_pred_classes, average='weighted')\n",
    "\n",
    "print(f\"Accuracy: {accuracy:.4f}\")\n",
    "print(f\"F1 Score: {f1:.4f}\")\n",
    "\n",
    "# Detailed classification report\n",
    "report = classification_report(y_true_classes, y_pred_classes)\n",
    "print(\"Classification Report:\")\n",
    "print(report)"
   ]
  },
  {
   "cell_type": "markdown",
   "metadata": {},
   "source": [
    "### **Performance Metrics Overview**  \n",
    "\n",
    "#### **Accuracy: 0.9363**  \n",
    "The model correctly predicted the class for **93.63%** of the samples in the training set. While this is a strong performance, it indicates that some misclassifications occurred.  \n",
    "\n",
    "#### **F1 Score: 0.9262**  \n",
    "An F1 score of **0.9262** reflects a good balance between precision and recall, meaning the model makes accurate predictions while minimizing false positives and false negatives.  \n",
    "\n",
    "### **Detailed Classification Report**  \n",
    "\n",
    "- **Precision** (True Positives / Predicted Positives)  \n",
    "  - Measures how many of the predicted positive cases were actually correct.  \n",
    "  - A high precision score suggests the model makes few false positive predictions.  \n",
    "\n",
    "- **Recall** (True Positives / Actual Positives)  \n",
    "  - Indicates how well the model identifies all true instances of a class.  \n",
    "  - A good recall score means the model captures most relevant cases with minimal false negatives.  \n",
    "\n",
    "- **F1 Score** (Harmonic Mean of Precision & Recall)  \n",
    "  - Ensures a balanced evaluation by considering both precision and recall.  \n",
    "  - An F1 score of **0.9262** suggests the model maintains strong predictive performance across all classes.  \n",
    "\n",
    "- **Support** (Total Samples per Class)  \n",
    "  - Indicates the number of instances in the dataset for each class.  \n",
    "  - Helps assess how well the model performs on different class distributions.  \n",
    "\n",
    "### **Summary of Results**  \n",
    "\n",
    "- **Overall Performance:** The model demonstrates **strong classification accuracy (93.63%)** and **high F1 score (92.62%)**, indicating effective generalization.  \n",
    "- **Macro Average:** Evaluates the model’s performance equally across all classes.  \n",
    "- **Weighted Average:** Accounts for class distribution, ensuring more frequent classes do not dominate the evaluation.  \n",
    "\n",
    "While the model performs well, some misclassifications exist, suggesting potential areas for improvement, such as hyperparameter tuning, additional data augmentation, or refining feature extraction techniques.\n"
   ]
  }
 ],
 "metadata": {
  "kernelspec": {
   "display_name": "Python 3",
   "language": "python",
   "name": "python3"
  },
  "language_info": {
   "codemirror_mode": {
    "name": "ipython",
    "version": 3
   },
   "file_extension": ".py",
   "mimetype": "text/x-python",
   "name": "python",
   "nbconvert_exporter": "python",
   "pygments_lexer": "ipython3",
   "version": "3.11.0"
  }
 },
 "nbformat": 4,
 "nbformat_minor": 2
}
